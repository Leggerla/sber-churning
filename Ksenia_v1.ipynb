{
 "cells": [
  {
   "cell_type": "code",
   "execution_count": 1,
   "metadata": {
    "ExecuteTime": {
     "end_time": "2020-10-17T10:07:36.354459Z",
     "start_time": "2020-10-17T10:07:36.258883Z"
    }
   },
   "outputs": [],
   "source": [
    "import pandas as pd\n",
    "import os"
   ]
  },
  {
   "cell_type": "code",
   "execution_count": 2,
   "metadata": {
    "ExecuteTime": {
     "end_time": "2020-10-17T10:07:36.547910Z",
     "start_time": "2020-10-17T10:07:36.431315Z"
    }
   },
   "outputs": [
    {
     "name": "stdout",
     "output_type": "stream",
     "text": [
      "train.csv\r\n"
     ]
    }
   ],
   "source": [
    "!ls train"
   ]
  },
  {
   "cell_type": "code",
   "execution_count": 3,
   "metadata": {
    "ExecuteTime": {
     "end_time": "2020-10-17T10:07:36.986903Z",
     "start_time": "2020-10-17T10:07:36.586786Z"
    }
   },
   "outputs": [
    {
     "data": {
      "text/plain": [
       "((1159576, 3), (2766724, 2))"
      ]
     },
     "execution_count": 3,
     "metadata": {},
     "output_type": "execute_result"
    }
   ],
   "source": [
    "train = pd.read_csv('./train/train.csv')\n",
    "addresses = pd.read_csv('./misc/addresses.csv')\n",
    "\n",
    "train.shape, addresses.shape"
   ]
  },
  {
   "cell_type": "code",
   "execution_count": 4,
   "metadata": {
    "ExecuteTime": {
     "end_time": "2020-10-17T10:07:37.000623Z",
     "start_time": "2020-10-17T10:07:36.995156Z"
    }
   },
   "outputs": [
    {
     "data": {
      "text/html": [
       "<div>\n",
       "<style scoped>\n",
       "    .dataframe tbody tr th:only-of-type {\n",
       "        vertical-align: middle;\n",
       "    }\n",
       "\n",
       "    .dataframe tbody tr th {\n",
       "        vertical-align: top;\n",
       "    }\n",
       "\n",
       "    .dataframe thead th {\n",
       "        text-align: right;\n",
       "    }\n",
       "</style>\n",
       "<table border=\"1\" class=\"dataframe\">\n",
       "  <thead>\n",
       "    <tr style=\"text-align: right;\">\n",
       "      <th></th>\n",
       "      <th>phone_id</th>\n",
       "      <th>order_completed_at</th>\n",
       "      <th>target</th>\n",
       "    </tr>\n",
       "  </thead>\n",
       "  <tbody>\n",
       "    <tr>\n",
       "      <th>0</th>\n",
       "      <td>19843</td>\n",
       "      <td>2020-01</td>\n",
       "      <td>1.0</td>\n",
       "    </tr>\n",
       "    <tr>\n",
       "      <th>1</th>\n",
       "      <td>19843</td>\n",
       "      <td>2020-02</td>\n",
       "      <td>0.0</td>\n",
       "    </tr>\n",
       "    <tr>\n",
       "      <th>2</th>\n",
       "      <td>19843</td>\n",
       "      <td>2020-03</td>\n",
       "      <td>0.0</td>\n",
       "    </tr>\n",
       "    <tr>\n",
       "      <th>3</th>\n",
       "      <td>19843</td>\n",
       "      <td>2020-04</td>\n",
       "      <td>0.0</td>\n",
       "    </tr>\n",
       "    <tr>\n",
       "      <th>4</th>\n",
       "      <td>19843</td>\n",
       "      <td>2020-05</td>\n",
       "      <td>0.0</td>\n",
       "    </tr>\n",
       "  </tbody>\n",
       "</table>\n",
       "</div>"
      ],
      "text/plain": [
       "   phone_id order_completed_at  target\n",
       "0     19843            2020-01     1.0\n",
       "1     19843            2020-02     0.0\n",
       "2     19843            2020-03     0.0\n",
       "3     19843            2020-04     0.0\n",
       "4     19843            2020-05     0.0"
      ]
     },
     "execution_count": 4,
     "metadata": {},
     "output_type": "execute_result"
    }
   ],
   "source": [
    "train.head()"
   ]
  },
  {
   "cell_type": "code",
   "execution_count": 5,
   "metadata": {
    "ExecuteTime": {
     "end_time": "2020-10-17T10:07:37.016136Z",
     "start_time": "2020-10-17T10:07:37.007743Z"
    }
   },
   "outputs": [
    {
     "data": {
      "text/html": [
       "<div>\n",
       "<style scoped>\n",
       "    .dataframe tbody tr th:only-of-type {\n",
       "        vertical-align: middle;\n",
       "    }\n",
       "\n",
       "    .dataframe tbody tr th {\n",
       "        vertical-align: top;\n",
       "    }\n",
       "\n",
       "    .dataframe thead th {\n",
       "        text-align: right;\n",
       "    }\n",
       "</style>\n",
       "<table border=\"1\" class=\"dataframe\">\n",
       "  <thead>\n",
       "    <tr style=\"text-align: right;\">\n",
       "      <th></th>\n",
       "      <th>id</th>\n",
       "      <th>phone_id</th>\n",
       "    </tr>\n",
       "  </thead>\n",
       "  <tbody>\n",
       "    <tr>\n",
       "      <th>0</th>\n",
       "      <td>41</td>\n",
       "      <td>1</td>\n",
       "    </tr>\n",
       "    <tr>\n",
       "      <th>1</th>\n",
       "      <td>8531</td>\n",
       "      <td>2</td>\n",
       "    </tr>\n",
       "    <tr>\n",
       "      <th>2</th>\n",
       "      <td>2982657</td>\n",
       "      <td>2</td>\n",
       "    </tr>\n",
       "    <tr>\n",
       "      <th>3</th>\n",
       "      <td>3271801</td>\n",
       "      <td>2</td>\n",
       "    </tr>\n",
       "    <tr>\n",
       "      <th>4</th>\n",
       "      <td>3648206</td>\n",
       "      <td>2</td>\n",
       "    </tr>\n",
       "  </tbody>\n",
       "</table>\n",
       "</div>"
      ],
      "text/plain": [
       "        id  phone_id\n",
       "0       41         1\n",
       "1     8531         2\n",
       "2  2982657         2\n",
       "3  3271801         2\n",
       "4  3648206         2"
      ]
     },
     "execution_count": 5,
     "metadata": {},
     "output_type": "execute_result"
    }
   ],
   "source": [
    "addresses.head()"
   ]
  },
  {
   "cell_type": "code",
   "execution_count": 6,
   "metadata": {
    "ExecuteTime": {
     "end_time": "2020-10-17T10:07:37.644787Z",
     "start_time": "2020-10-17T10:07:37.149057Z"
    }
   },
   "outputs": [
    {
     "data": {
      "text/html": [
       "<div>\n",
       "<style scoped>\n",
       "    .dataframe tbody tr th:only-of-type {\n",
       "        vertical-align: middle;\n",
       "    }\n",
       "\n",
       "    .dataframe tbody tr th {\n",
       "        vertical-align: top;\n",
       "    }\n",
       "\n",
       "    .dataframe thead th {\n",
       "        text-align: right;\n",
       "    }\n",
       "</style>\n",
       "<table border=\"1\" class=\"dataframe\">\n",
       "  <thead>\n",
       "    <tr style=\"text-align: right;\">\n",
       "      <th></th>\n",
       "      <th>phone_id</th>\n",
       "      <th>order_completed_at</th>\n",
       "      <th>target</th>\n",
       "      <th>id</th>\n",
       "    </tr>\n",
       "  </thead>\n",
       "  <tbody>\n",
       "    <tr>\n",
       "      <th>0</th>\n",
       "      <td>19843</td>\n",
       "      <td>2020-01</td>\n",
       "      <td>1.0</td>\n",
       "      <td>8050123</td>\n",
       "    </tr>\n",
       "    <tr>\n",
       "      <th>1</th>\n",
       "      <td>19843</td>\n",
       "      <td>2020-01</td>\n",
       "      <td>1.0</td>\n",
       "      <td>8194250</td>\n",
       "    </tr>\n",
       "    <tr>\n",
       "      <th>2</th>\n",
       "      <td>19843</td>\n",
       "      <td>2020-01</td>\n",
       "      <td>1.0</td>\n",
       "      <td>3064377</td>\n",
       "    </tr>\n",
       "    <tr>\n",
       "      <th>3</th>\n",
       "      <td>19843</td>\n",
       "      <td>2020-01</td>\n",
       "      <td>1.0</td>\n",
       "      <td>3584090</td>\n",
       "    </tr>\n",
       "    <tr>\n",
       "      <th>4</th>\n",
       "      <td>19843</td>\n",
       "      <td>2020-01</td>\n",
       "      <td>1.0</td>\n",
       "      <td>3584562</td>\n",
       "    </tr>\n",
       "  </tbody>\n",
       "</table>\n",
       "</div>"
      ],
      "text/plain": [
       "   phone_id order_completed_at  target       id\n",
       "0     19843            2020-01     1.0  8050123\n",
       "1     19843            2020-01     1.0  8194250\n",
       "2     19843            2020-01     1.0  3064377\n",
       "3     19843            2020-01     1.0  3584090\n",
       "4     19843            2020-01     1.0  3584562"
      ]
     },
     "execution_count": 6,
     "metadata": {},
     "output_type": "execute_result"
    }
   ],
   "source": [
    "train_addresses = train.merge(addresses, on='phone_id', how='left')\n",
    "train_addresses.head()"
   ]
  },
  {
   "cell_type": "code",
   "execution_count": 7,
   "metadata": {
    "ExecuteTime": {
     "end_time": "2020-10-17T10:07:42.014577Z",
     "start_time": "2020-10-17T10:07:37.654791Z"
    }
   },
   "outputs": [],
   "source": [
    "li = []\n",
    "for filename in sorted(os.listdir('./shipments')):\n",
    "    df = pd.read_csv(os.path.join('./shipments', filename))\n",
    "    li.append(df)\n",
    "    \n",
    "shipments = pd.concat(li, axis=0)"
   ]
  },
  {
   "cell_type": "code",
   "execution_count": 8,
   "metadata": {
    "ExecuteTime": {
     "end_time": "2020-10-17T10:07:42.076184Z",
     "start_time": "2020-10-17T10:07:42.064683Z"
    }
   },
   "outputs": [
    {
     "data": {
      "text/html": [
       "<div>\n",
       "<style scoped>\n",
       "    .dataframe tbody tr th:only-of-type {\n",
       "        vertical-align: middle;\n",
       "    }\n",
       "\n",
       "    .dataframe tbody tr th {\n",
       "        vertical-align: top;\n",
       "    }\n",
       "\n",
       "    .dataframe thead th {\n",
       "        text-align: right;\n",
       "    }\n",
       "</style>\n",
       "<table border=\"1\" class=\"dataframe\">\n",
       "  <thead>\n",
       "    <tr style=\"text-align: right;\">\n",
       "      <th></th>\n",
       "      <th>user_id</th>\n",
       "      <th>ship_address_id</th>\n",
       "      <th>shipment_id</th>\n",
       "      <th>order_id</th>\n",
       "      <th>order_created_at</th>\n",
       "      <th>order_completed_at</th>\n",
       "      <th>shipment_starts_at</th>\n",
       "      <th>retailer</th>\n",
       "      <th>s.order_state</th>\n",
       "      <th>shipment_state</th>\n",
       "      <th>s.city_name</th>\n",
       "      <th>s.store_id</th>\n",
       "      <th>total_cost</th>\n",
       "      <th>rate</th>\n",
       "      <th>dw_kind</th>\n",
       "      <th>promo_total</th>\n",
       "      <th>total_weight</th>\n",
       "      <th>platform</th>\n",
       "      <th>os</th>\n",
       "      <th>shipped_at</th>\n",
       "    </tr>\n",
       "  </thead>\n",
       "  <tbody>\n",
       "    <tr>\n",
       "      <th>0</th>\n",
       "      <td>11019</td>\n",
       "      <td>171906</td>\n",
       "      <td>322307</td>\n",
       "      <td>2156687</td>\n",
       "      <td>2017-08-03 21:25:23</td>\n",
       "      <td>2020-02-18 14:07:00</td>\n",
       "      <td>2020-02-20 07:00:00</td>\n",
       "      <td>METRO</td>\n",
       "      <td>complete</td>\n",
       "      <td>shipped</td>\n",
       "      <td>Москва</td>\n",
       "      <td>21</td>\n",
       "      <td>168.0</td>\n",
       "      <td>0</td>\n",
       "      <td>courier</td>\n",
       "      <td>0.0</td>\n",
       "      <td>30170</td>\n",
       "      <td>web</td>\n",
       "      <td>windows</td>\n",
       "      <td>2020-02-20 08:08:54</td>\n",
       "    </tr>\n",
       "    <tr>\n",
       "      <th>1</th>\n",
       "      <td>62278</td>\n",
       "      <td>278832</td>\n",
       "      <td>387023</td>\n",
       "      <td>3021953</td>\n",
       "      <td>2018-03-02 17:22:04</td>\n",
       "      <td>2020-01-03 13:09:26</td>\n",
       "      <td>2020-01-03 17:00:00</td>\n",
       "      <td>METRO</td>\n",
       "      <td>complete</td>\n",
       "      <td>shipped</td>\n",
       "      <td>Москва</td>\n",
       "      <td>10</td>\n",
       "      <td>98.0</td>\n",
       "      <td>0</td>\n",
       "      <td>courier</td>\n",
       "      <td>-150.0</td>\n",
       "      <td>11305</td>\n",
       "      <td>web</td>\n",
       "      <td>windows</td>\n",
       "      <td>2020-01-03 18:10:40</td>\n",
       "    </tr>\n",
       "    <tr>\n",
       "      <th>2</th>\n",
       "      <td>905126</td>\n",
       "      <td>468407</td>\n",
       "      <td>388943</td>\n",
       "      <td>3018198</td>\n",
       "      <td>2018-02-28 11:32:47</td>\n",
       "      <td>2020-02-12 12:39:28</td>\n",
       "      <td>2020-02-13 11:00:00</td>\n",
       "      <td>METRO</td>\n",
       "      <td>complete</td>\n",
       "      <td>shipped</td>\n",
       "      <td>Москва</td>\n",
       "      <td>21</td>\n",
       "      <td>98.0</td>\n",
       "      <td>5</td>\n",
       "      <td>courier</td>\n",
       "      <td>0.0</td>\n",
       "      <td>13589</td>\n",
       "      <td>app</td>\n",
       "      <td>ios</td>\n",
       "      <td>2020-02-13 12:33:53</td>\n",
       "    </tr>\n",
       "    <tr>\n",
       "      <th>3</th>\n",
       "      <td>21412</td>\n",
       "      <td>61962</td>\n",
       "      <td>421048</td>\n",
       "      <td>3030227</td>\n",
       "      <td>2018-03-07 20:37:27</td>\n",
       "      <td>2020-01-25 11:58:56</td>\n",
       "      <td>2020-01-25 18:00:00</td>\n",
       "      <td>METRO</td>\n",
       "      <td>complete</td>\n",
       "      <td>shipped</td>\n",
       "      <td>Москва</td>\n",
       "      <td>8</td>\n",
       "      <td>158.0</td>\n",
       "      <td>0</td>\n",
       "      <td>courier</td>\n",
       "      <td>0.0</td>\n",
       "      <td>9726</td>\n",
       "      <td>web</td>\n",
       "      <td>mac</td>\n",
       "      <td>2020-01-25 19:55:32</td>\n",
       "    </tr>\n",
       "    <tr>\n",
       "      <th>4</th>\n",
       "      <td>42110</td>\n",
       "      <td>378297</td>\n",
       "      <td>442659</td>\n",
       "      <td>2923996</td>\n",
       "      <td>2017-12-24 11:19:04</td>\n",
       "      <td>2020-01-07 14:30:44</td>\n",
       "      <td>2020-01-07 19:00:00</td>\n",
       "      <td>METRO</td>\n",
       "      <td>complete</td>\n",
       "      <td>shipped</td>\n",
       "      <td>Москва</td>\n",
       "      <td>2</td>\n",
       "      <td>163.0</td>\n",
       "      <td>0</td>\n",
       "      <td>courier</td>\n",
       "      <td>0.0</td>\n",
       "      <td>30323</td>\n",
       "      <td>web</td>\n",
       "      <td>windows</td>\n",
       "      <td>2020-01-07 19:51:37</td>\n",
       "    </tr>\n",
       "  </tbody>\n",
       "</table>\n",
       "</div>"
      ],
      "text/plain": [
       "   user_id  ship_address_id  shipment_id  order_id     order_created_at  \\\n",
       "0    11019           171906       322307   2156687  2017-08-03 21:25:23   \n",
       "1    62278           278832       387023   3021953  2018-03-02 17:22:04   \n",
       "2   905126           468407       388943   3018198  2018-02-28 11:32:47   \n",
       "3    21412            61962       421048   3030227  2018-03-07 20:37:27   \n",
       "4    42110           378297       442659   2923996  2017-12-24 11:19:04   \n",
       "\n",
       "    order_completed_at   shipment_starts_at retailer s.order_state  \\\n",
       "0  2020-02-18 14:07:00  2020-02-20 07:00:00    METRO      complete   \n",
       "1  2020-01-03 13:09:26  2020-01-03 17:00:00    METRO      complete   \n",
       "2  2020-02-12 12:39:28  2020-02-13 11:00:00    METRO      complete   \n",
       "3  2020-01-25 11:58:56  2020-01-25 18:00:00    METRO      complete   \n",
       "4  2020-01-07 14:30:44  2020-01-07 19:00:00    METRO      complete   \n",
       "\n",
       "  shipment_state s.city_name  s.store_id  total_cost  rate  dw_kind  \\\n",
       "0        shipped      Москва          21       168.0     0  courier   \n",
       "1        shipped      Москва          10        98.0     0  courier   \n",
       "2        shipped      Москва          21        98.0     5  courier   \n",
       "3        shipped      Москва           8       158.0     0  courier   \n",
       "4        shipped      Москва           2       163.0     0  courier   \n",
       "\n",
       "   promo_total  total_weight platform       os           shipped_at  \n",
       "0          0.0         30170      web  windows  2020-02-20 08:08:54  \n",
       "1       -150.0         11305      web  windows  2020-01-03 18:10:40  \n",
       "2          0.0         13589      app      ios  2020-02-13 12:33:53  \n",
       "3          0.0          9726      web      mac  2020-01-25 19:55:32  \n",
       "4          0.0         30323      web  windows  2020-01-07 19:51:37  "
      ]
     },
     "execution_count": 8,
     "metadata": {},
     "output_type": "execute_result"
    }
   ],
   "source": [
    "shipments.head()"
   ]
  },
  {
   "cell_type": "code",
   "execution_count": 22,
   "metadata": {
    "ExecuteTime": {
     "end_time": "2020-10-17T10:09:55.404985Z",
     "start_time": "2020-10-17T10:09:52.352261Z"
    }
   },
   "outputs": [],
   "source": [
    "train_shipments = train_addresses.merge(shipments, left_on='id', right_on='ship_address_id', how='left')"
   ]
  },
  {
   "cell_type": "code",
   "execution_count": 23,
   "metadata": {
    "ExecuteTime": {
     "end_time": "2020-10-17T10:10:07.385680Z",
     "start_time": "2020-10-17T10:10:02.691107Z"
    }
   },
   "outputs": [
    {
     "data": {
      "text/plain": [
       "phone_id                9365553\n",
       "order_completed_at_x    9365553\n",
       "target                  9365553\n",
       "id                      9365553\n",
       "user_id                 9365553\n",
       "ship_address_id         9365553\n",
       "shipment_id             9365553\n",
       "order_id                9365553\n",
       "order_created_at        9365553\n",
       "order_completed_at_y    9365553\n",
       "shipment_starts_at      9365553\n",
       "retailer                9365553\n",
       "s.order_state           9365553\n",
       "shipment_state          9365553\n",
       "s.city_name             9365553\n",
       "s.store_id              9365553\n",
       "total_cost              9365553\n",
       "rate                    9365553\n",
       "dw_kind                 9365553\n",
       "promo_total             9365553\n",
       "total_weight            9365553\n",
       "platform                9365553\n",
       "os                      9365553\n",
       "shipped_at              9365553\n",
       "dtype: int64"
      ]
     },
     "execution_count": 23,
     "metadata": {},
     "output_type": "execute_result"
    }
   ],
   "source": [
    "train_shipments.isna().count()"
   ]
  },
  {
   "cell_type": "code",
   "execution_count": 25,
   "metadata": {
    "ExecuteTime": {
     "end_time": "2020-10-17T10:10:41.710905Z",
     "start_time": "2020-10-17T10:10:26.986567Z"
    }
   },
   "outputs": [
    {
     "data": {
      "text/html": [
       "<div>\n",
       "<style scoped>\n",
       "    .dataframe tbody tr th:only-of-type {\n",
       "        vertical-align: middle;\n",
       "    }\n",
       "\n",
       "    .dataframe tbody tr th {\n",
       "        vertical-align: top;\n",
       "    }\n",
       "\n",
       "    .dataframe thead th {\n",
       "        text-align: right;\n",
       "    }\n",
       "</style>\n",
       "<table border=\"1\" class=\"dataframe\">\n",
       "  <thead>\n",
       "    <tr style=\"text-align: right;\">\n",
       "      <th></th>\n",
       "      <th>phone_id</th>\n",
       "      <th>order_completed_at_x</th>\n",
       "      <th>target</th>\n",
       "      <th>id</th>\n",
       "      <th>user_id</th>\n",
       "      <th>ship_address_id</th>\n",
       "      <th>shipment_id</th>\n",
       "      <th>order_id</th>\n",
       "      <th>order_created_at</th>\n",
       "      <th>order_completed_at_y</th>\n",
       "      <th>...</th>\n",
       "      <th>s.city_name</th>\n",
       "      <th>s.store_id</th>\n",
       "      <th>total_cost</th>\n",
       "      <th>rate</th>\n",
       "      <th>dw_kind</th>\n",
       "      <th>promo_total</th>\n",
       "      <th>total_weight</th>\n",
       "      <th>platform</th>\n",
       "      <th>os</th>\n",
       "      <th>shipped_at</th>\n",
       "    </tr>\n",
       "  </thead>\n",
       "  <tbody>\n",
       "    <tr>\n",
       "      <th>0</th>\n",
       "      <td>NaN</td>\n",
       "      <td>NaN</td>\n",
       "      <td>NaN</td>\n",
       "      <td>NaN</td>\n",
       "      <td>NaN</td>\n",
       "      <td>NaN</td>\n",
       "      <td>NaN</td>\n",
       "      <td>NaN</td>\n",
       "      <td>NaN</td>\n",
       "      <td>NaN</td>\n",
       "      <td>...</td>\n",
       "      <td>NaN</td>\n",
       "      <td>NaN</td>\n",
       "      <td>NaN</td>\n",
       "      <td>NaN</td>\n",
       "      <td>NaN</td>\n",
       "      <td>NaN</td>\n",
       "      <td>NaN</td>\n",
       "      <td>NaN</td>\n",
       "      <td>NaN</td>\n",
       "      <td>NaN</td>\n",
       "    </tr>\n",
       "    <tr>\n",
       "      <th>1</th>\n",
       "      <td>NaN</td>\n",
       "      <td>NaN</td>\n",
       "      <td>NaN</td>\n",
       "      <td>NaN</td>\n",
       "      <td>NaN</td>\n",
       "      <td>NaN</td>\n",
       "      <td>NaN</td>\n",
       "      <td>NaN</td>\n",
       "      <td>NaN</td>\n",
       "      <td>NaN</td>\n",
       "      <td>...</td>\n",
       "      <td>NaN</td>\n",
       "      <td>NaN</td>\n",
       "      <td>NaN</td>\n",
       "      <td>NaN</td>\n",
       "      <td>NaN</td>\n",
       "      <td>NaN</td>\n",
       "      <td>NaN</td>\n",
       "      <td>NaN</td>\n",
       "      <td>NaN</td>\n",
       "      <td>NaN</td>\n",
       "    </tr>\n",
       "    <tr>\n",
       "      <th>2</th>\n",
       "      <td>NaN</td>\n",
       "      <td>NaN</td>\n",
       "      <td>NaN</td>\n",
       "      <td>NaN</td>\n",
       "      <td>NaN</td>\n",
       "      <td>NaN</td>\n",
       "      <td>NaN</td>\n",
       "      <td>NaN</td>\n",
       "      <td>NaN</td>\n",
       "      <td>NaN</td>\n",
       "      <td>...</td>\n",
       "      <td>NaN</td>\n",
       "      <td>NaN</td>\n",
       "      <td>NaN</td>\n",
       "      <td>NaN</td>\n",
       "      <td>NaN</td>\n",
       "      <td>NaN</td>\n",
       "      <td>NaN</td>\n",
       "      <td>NaN</td>\n",
       "      <td>NaN</td>\n",
       "      <td>NaN</td>\n",
       "    </tr>\n",
       "    <tr>\n",
       "      <th>3</th>\n",
       "      <td>NaN</td>\n",
       "      <td>NaN</td>\n",
       "      <td>NaN</td>\n",
       "      <td>NaN</td>\n",
       "      <td>NaN</td>\n",
       "      <td>NaN</td>\n",
       "      <td>NaN</td>\n",
       "      <td>NaN</td>\n",
       "      <td>NaN</td>\n",
       "      <td>NaN</td>\n",
       "      <td>...</td>\n",
       "      <td>NaN</td>\n",
       "      <td>NaN</td>\n",
       "      <td>NaN</td>\n",
       "      <td>NaN</td>\n",
       "      <td>NaN</td>\n",
       "      <td>NaN</td>\n",
       "      <td>NaN</td>\n",
       "      <td>NaN</td>\n",
       "      <td>NaN</td>\n",
       "      <td>NaN</td>\n",
       "    </tr>\n",
       "    <tr>\n",
       "      <th>4</th>\n",
       "      <td>NaN</td>\n",
       "      <td>NaN</td>\n",
       "      <td>NaN</td>\n",
       "      <td>NaN</td>\n",
       "      <td>NaN</td>\n",
       "      <td>NaN</td>\n",
       "      <td>NaN</td>\n",
       "      <td>NaN</td>\n",
       "      <td>NaN</td>\n",
       "      <td>NaN</td>\n",
       "      <td>...</td>\n",
       "      <td>NaN</td>\n",
       "      <td>NaN</td>\n",
       "      <td>NaN</td>\n",
       "      <td>NaN</td>\n",
       "      <td>NaN</td>\n",
       "      <td>NaN</td>\n",
       "      <td>NaN</td>\n",
       "      <td>NaN</td>\n",
       "      <td>NaN</td>\n",
       "      <td>NaN</td>\n",
       "    </tr>\n",
       "    <tr>\n",
       "      <th>...</th>\n",
       "      <td>...</td>\n",
       "      <td>...</td>\n",
       "      <td>...</td>\n",
       "      <td>...</td>\n",
       "      <td>...</td>\n",
       "      <td>...</td>\n",
       "      <td>...</td>\n",
       "      <td>...</td>\n",
       "      <td>...</td>\n",
       "      <td>...</td>\n",
       "      <td>...</td>\n",
       "      <td>...</td>\n",
       "      <td>...</td>\n",
       "      <td>...</td>\n",
       "      <td>...</td>\n",
       "      <td>...</td>\n",
       "      <td>...</td>\n",
       "      <td>...</td>\n",
       "      <td>...</td>\n",
       "      <td>...</td>\n",
       "      <td>...</td>\n",
       "    </tr>\n",
       "    <tr>\n",
       "      <th>9365548</th>\n",
       "      <td>NaN</td>\n",
       "      <td>NaN</td>\n",
       "      <td>NaN</td>\n",
       "      <td>NaN</td>\n",
       "      <td>NaN</td>\n",
       "      <td>NaN</td>\n",
       "      <td>NaN</td>\n",
       "      <td>NaN</td>\n",
       "      <td>NaN</td>\n",
       "      <td>NaN</td>\n",
       "      <td>...</td>\n",
       "      <td>NaN</td>\n",
       "      <td>NaN</td>\n",
       "      <td>NaN</td>\n",
       "      <td>NaN</td>\n",
       "      <td>NaN</td>\n",
       "      <td>NaN</td>\n",
       "      <td>NaN</td>\n",
       "      <td>NaN</td>\n",
       "      <td>NaN</td>\n",
       "      <td>NaN</td>\n",
       "    </tr>\n",
       "    <tr>\n",
       "      <th>9365549</th>\n",
       "      <td>NaN</td>\n",
       "      <td>NaN</td>\n",
       "      <td>NaN</td>\n",
       "      <td>NaN</td>\n",
       "      <td>NaN</td>\n",
       "      <td>NaN</td>\n",
       "      <td>NaN</td>\n",
       "      <td>NaN</td>\n",
       "      <td>NaN</td>\n",
       "      <td>NaN</td>\n",
       "      <td>...</td>\n",
       "      <td>NaN</td>\n",
       "      <td>NaN</td>\n",
       "      <td>NaN</td>\n",
       "      <td>NaN</td>\n",
       "      <td>NaN</td>\n",
       "      <td>NaN</td>\n",
       "      <td>NaN</td>\n",
       "      <td>NaN</td>\n",
       "      <td>NaN</td>\n",
       "      <td>NaN</td>\n",
       "    </tr>\n",
       "    <tr>\n",
       "      <th>9365550</th>\n",
       "      <td>NaN</td>\n",
       "      <td>NaN</td>\n",
       "      <td>NaN</td>\n",
       "      <td>NaN</td>\n",
       "      <td>NaN</td>\n",
       "      <td>NaN</td>\n",
       "      <td>NaN</td>\n",
       "      <td>NaN</td>\n",
       "      <td>NaN</td>\n",
       "      <td>NaN</td>\n",
       "      <td>...</td>\n",
       "      <td>NaN</td>\n",
       "      <td>NaN</td>\n",
       "      <td>NaN</td>\n",
       "      <td>NaN</td>\n",
       "      <td>NaN</td>\n",
       "      <td>NaN</td>\n",
       "      <td>NaN</td>\n",
       "      <td>NaN</td>\n",
       "      <td>NaN</td>\n",
       "      <td>NaN</td>\n",
       "    </tr>\n",
       "    <tr>\n",
       "      <th>9365551</th>\n",
       "      <td>NaN</td>\n",
       "      <td>NaN</td>\n",
       "      <td>NaN</td>\n",
       "      <td>NaN</td>\n",
       "      <td>NaN</td>\n",
       "      <td>NaN</td>\n",
       "      <td>NaN</td>\n",
       "      <td>NaN</td>\n",
       "      <td>NaN</td>\n",
       "      <td>NaN</td>\n",
       "      <td>...</td>\n",
       "      <td>NaN</td>\n",
       "      <td>NaN</td>\n",
       "      <td>NaN</td>\n",
       "      <td>NaN</td>\n",
       "      <td>NaN</td>\n",
       "      <td>NaN</td>\n",
       "      <td>NaN</td>\n",
       "      <td>NaN</td>\n",
       "      <td>NaN</td>\n",
       "      <td>NaN</td>\n",
       "    </tr>\n",
       "    <tr>\n",
       "      <th>9365552</th>\n",
       "      <td>NaN</td>\n",
       "      <td>NaN</td>\n",
       "      <td>NaN</td>\n",
       "      <td>NaN</td>\n",
       "      <td>NaN</td>\n",
       "      <td>NaN</td>\n",
       "      <td>NaN</td>\n",
       "      <td>NaN</td>\n",
       "      <td>NaN</td>\n",
       "      <td>NaN</td>\n",
       "      <td>...</td>\n",
       "      <td>NaN</td>\n",
       "      <td>NaN</td>\n",
       "      <td>NaN</td>\n",
       "      <td>NaN</td>\n",
       "      <td>NaN</td>\n",
       "      <td>NaN</td>\n",
       "      <td>NaN</td>\n",
       "      <td>NaN</td>\n",
       "      <td>NaN</td>\n",
       "      <td>NaN</td>\n",
       "    </tr>\n",
       "  </tbody>\n",
       "</table>\n",
       "<p>9365553 rows × 24 columns</p>\n",
       "</div>"
      ],
      "text/plain": [
       "         phone_id order_completed_at_x  target  id  user_id  ship_address_id  \\\n",
       "0             NaN                  NaN     NaN NaN      NaN              NaN   \n",
       "1             NaN                  NaN     NaN NaN      NaN              NaN   \n",
       "2             NaN                  NaN     NaN NaN      NaN              NaN   \n",
       "3             NaN                  NaN     NaN NaN      NaN              NaN   \n",
       "4             NaN                  NaN     NaN NaN      NaN              NaN   \n",
       "...           ...                  ...     ...  ..      ...              ...   \n",
       "9365548       NaN                  NaN     NaN NaN      NaN              NaN   \n",
       "9365549       NaN                  NaN     NaN NaN      NaN              NaN   \n",
       "9365550       NaN                  NaN     NaN NaN      NaN              NaN   \n",
       "9365551       NaN                  NaN     NaN NaN      NaN              NaN   \n",
       "9365552       NaN                  NaN     NaN NaN      NaN              NaN   \n",
       "\n",
       "         shipment_id  order_id order_created_at order_completed_at_y  ...  \\\n",
       "0                NaN       NaN              NaN                  NaN  ...   \n",
       "1                NaN       NaN              NaN                  NaN  ...   \n",
       "2                NaN       NaN              NaN                  NaN  ...   \n",
       "3                NaN       NaN              NaN                  NaN  ...   \n",
       "4                NaN       NaN              NaN                  NaN  ...   \n",
       "...              ...       ...              ...                  ...  ...   \n",
       "9365548          NaN       NaN              NaN                  NaN  ...   \n",
       "9365549          NaN       NaN              NaN                  NaN  ...   \n",
       "9365550          NaN       NaN              NaN                  NaN  ...   \n",
       "9365551          NaN       NaN              NaN                  NaN  ...   \n",
       "9365552          NaN       NaN              NaN                  NaN  ...   \n",
       "\n",
       "        s.city_name s.store_id total_cost rate dw_kind  promo_total  \\\n",
       "0               NaN        NaN        NaN  NaN     NaN          NaN   \n",
       "1               NaN        NaN        NaN  NaN     NaN          NaN   \n",
       "2               NaN        NaN        NaN  NaN     NaN          NaN   \n",
       "3               NaN        NaN        NaN  NaN     NaN          NaN   \n",
       "4               NaN        NaN        NaN  NaN     NaN          NaN   \n",
       "...             ...        ...        ...  ...     ...          ...   \n",
       "9365548         NaN        NaN        NaN  NaN     NaN          NaN   \n",
       "9365549         NaN        NaN        NaN  NaN     NaN          NaN   \n",
       "9365550         NaN        NaN        NaN  NaN     NaN          NaN   \n",
       "9365551         NaN        NaN        NaN  NaN     NaN          NaN   \n",
       "9365552         NaN        NaN        NaN  NaN     NaN          NaN   \n",
       "\n",
       "         total_weight  platform   os  shipped_at  \n",
       "0                 NaN       NaN  NaN         NaN  \n",
       "1                 NaN       NaN  NaN         NaN  \n",
       "2                 NaN       NaN  NaN         NaN  \n",
       "3                 NaN       NaN  NaN         NaN  \n",
       "4                 NaN       NaN  NaN         NaN  \n",
       "...               ...       ...  ...         ...  \n",
       "9365548           NaN       NaN  NaN         NaN  \n",
       "9365549           NaN       NaN  NaN         NaN  \n",
       "9365550           NaN       NaN  NaN         NaN  \n",
       "9365551           NaN       NaN  NaN         NaN  \n",
       "9365552           NaN       NaN  NaN         NaN  \n",
       "\n",
       "[9365553 rows x 24 columns]"
      ]
     },
     "execution_count": 25,
     "metadata": {},
     "output_type": "execute_result"
    }
   ],
   "source": [
    "train_shipments[train_shipments.isna()]"
   ]
  },
  {
   "cell_type": "code",
   "execution_count": 13,
   "metadata": {
    "ExecuteTime": {
     "end_time": "2020-10-17T10:08:01.087761Z",
     "start_time": "2020-10-17T10:07:57.837670Z"
    }
   },
   "outputs": [
    {
     "data": {
      "text/plain": [
       "array([0, 1])"
      ]
     },
     "execution_count": 13,
     "metadata": {},
     "output_type": "execute_result"
    }
   ],
   "source": [
    "train_shipments.groupby('shipment_id')['phone_id'].nunique().unique()"
   ]
  },
  {
   "cell_type": "code",
   "execution_count": 14,
   "metadata": {
    "ExecuteTime": {
     "end_time": "2020-10-17T10:08:03.723432Z",
     "start_time": "2020-10-17T10:08:02.732973Z"
    }
   },
   "outputs": [
    {
     "data": {
      "text/plain": [
       "phone_id\n",
       "2.0         5\n",
       "3.0         4\n",
       "4.0         8\n",
       "6.0         9\n",
       "8.0         2\n",
       "           ..\n",
       "719359.0    1\n",
       "719360.0    1\n",
       "719363.0    1\n",
       "719373.0    1\n",
       "719374.0    1\n",
       "Name: shipment_id, Length: 284449, dtype: int64"
      ]
     },
     "execution_count": 14,
     "metadata": {},
     "output_type": "execute_result"
    }
   ],
   "source": [
    "train_shipments.groupby('phone_id')['shipment_id'].nunique()"
   ]
  },
  {
   "cell_type": "code",
   "execution_count": 15,
   "metadata": {
    "ExecuteTime": {
     "end_time": "2020-10-17T10:08:06.372376Z",
     "start_time": "2020-10-17T10:08:05.364841Z"
    }
   },
   "outputs": [],
   "source": [
    "from collections import Counter, OrderedDict\n",
    "count = Counter(train_shipments.groupby('phone_id')['shipment_id'].nunique())"
   ]
  },
  {
   "cell_type": "code",
   "execution_count": 80,
   "metadata": {
    "ExecuteTime": {
     "end_time": "2020-10-17T09:43:33.105215Z",
     "start_time": "2020-10-17T09:43:32.993101Z"
    }
   },
   "outputs": [
    {
     "data": {
      "text/plain": [
       "(2260686, 2260686)"
      ]
     },
     "execution_count": 80,
     "metadata": {},
     "output_type": "execute_result"
    }
   ],
   "source": [
    "shipments.shipment_id.count(), shipments.shipment_id.nunique()"
   ]
  },
  {
   "cell_type": "code",
   "execution_count": 78,
   "metadata": {
    "ExecuteTime": {
     "end_time": "2020-10-17T09:41:36.468181Z",
     "start_time": "2020-10-17T09:41:36.459660Z"
    }
   },
   "outputs": [
    {
     "data": {
      "text/plain": [
       "OrderedDict([(2, 55015),\n",
       "             (3, 43033),\n",
       "             (4, 31573),\n",
       "             (1, 27377),\n",
       "             (5, 23107),\n",
       "             (6, 17611),\n",
       "             (7, 13769),\n",
       "             (8, 10895),\n",
       "             (9, 8911),\n",
       "             (10, 7409),\n",
       "             (11, 6199),\n",
       "             (12, 5216),\n",
       "             (13, 4291),\n",
       "             (14, 3764),\n",
       "             (15, 3268),\n",
       "             (16, 2738),\n",
       "             (17, 2387),\n",
       "             (18, 2074),\n",
       "             (19, 1822),\n",
       "             (20, 1580),\n",
       "             (21, 1405),\n",
       "             (22, 1222),\n",
       "             (23, 1126),\n",
       "             (24, 870),\n",
       "             (25, 823),\n",
       "             (26, 740),\n",
       "             (27, 614),\n",
       "             (28, 583),\n",
       "             (29, 469),\n",
       "             (30, 468),\n",
       "             (31, 453),\n",
       "             (32, 389),\n",
       "             (33, 296),\n",
       "             (35, 272),\n",
       "             (34, 270),\n",
       "             (36, 214),\n",
       "             (37, 189),\n",
       "             (38, 179),\n",
       "             (40, 159),\n",
       "             (41, 146),\n",
       "             (39, 133),\n",
       "             (42, 121),\n",
       "             (43, 107),\n",
       "             (44, 92),\n",
       "             (45, 78),\n",
       "             (46, 78),\n",
       "             (47, 67),\n",
       "             (48, 62),\n",
       "             (50, 59),\n",
       "             (49, 57),\n",
       "             (53, 48),\n",
       "             (51, 45),\n",
       "             (52, 42),\n",
       "             (55, 38),\n",
       "             (56, 34),\n",
       "             (60, 32),\n",
       "             (58, 31),\n",
       "             (57, 31),\n",
       "             (54, 29),\n",
       "             (61, 21),\n",
       "             (59, 19),\n",
       "             (63, 19),\n",
       "             (62, 19),\n",
       "             (66, 14),\n",
       "             (67, 14),\n",
       "             (71, 12),\n",
       "             (65, 11),\n",
       "             (68, 11),\n",
       "             (69, 11),\n",
       "             (76, 11),\n",
       "             (75, 10),\n",
       "             (73, 10),\n",
       "             (64, 10),\n",
       "             (104, 8),\n",
       "             (70, 8),\n",
       "             (80, 7),\n",
       "             (85, 7),\n",
       "             (72, 7),\n",
       "             (74, 7),\n",
       "             (87, 5),\n",
       "             (84, 5),\n",
       "             (86, 5),\n",
       "             (83, 5),\n",
       "             (91, 4),\n",
       "             (81, 4),\n",
       "             (97, 4),\n",
       "             (93, 3),\n",
       "             (78, 3),\n",
       "             (77, 3),\n",
       "             (100, 3),\n",
       "             (95, 3),\n",
       "             (79, 3),\n",
       "             (101, 3),\n",
       "             (89, 3),\n",
       "             (155, 3),\n",
       "             (94, 2),\n",
       "             (102, 2),\n",
       "             (90, 2),\n",
       "             (123, 2),\n",
       "             (82, 2),\n",
       "             (112, 2),\n",
       "             (140, 1),\n",
       "             (88, 1),\n",
       "             (214, 1),\n",
       "             (98, 1),\n",
       "             (134, 1),\n",
       "             (184, 1),\n",
       "             (120, 1),\n",
       "             (194, 1),\n",
       "             (118, 1),\n",
       "             (646, 1),\n",
       "             (132, 1),\n",
       "             (106, 1),\n",
       "             (122, 1),\n",
       "             (152, 1),\n",
       "             (174, 1),\n",
       "             (376, 1),\n",
       "             (164, 1),\n",
       "             (113, 1),\n",
       "             (131, 1),\n",
       "             (161, 1),\n",
       "             (107, 1),\n",
       "             (92, 1),\n",
       "             (135, 1),\n",
       "             (110, 1),\n",
       "             (128, 1),\n",
       "             (109, 1),\n",
       "             (1456, 1),\n",
       "             (154, 1),\n",
       "             (529, 1),\n",
       "             (209, 1),\n",
       "             (99, 1),\n",
       "             (169, 1)])"
      ]
     },
     "execution_count": 78,
     "metadata": {},
     "output_type": "execute_result"
    }
   ],
   "source": [
    "OrderedDict(count.most_common())"
   ]
  },
  {
   "cell_type": "code",
   "execution_count": 44,
   "metadata": {
    "ExecuteTime": {
     "end_time": "2020-10-17T09:26:22.514293Z",
     "start_time": "2020-10-17T09:26:22.388944Z"
    }
   },
   "outputs": [
    {
     "data": {
      "text/plain": [
       "(2260686, 2260686)"
      ]
     },
     "execution_count": 44,
     "metadata": {},
     "output_type": "execute_result"
    }
   ],
   "source": [
    "shipments.shipment_id.nunique(), len(shipments.shipment_id)"
   ]
  },
  {
   "cell_type": "code",
   "execution_count": 39,
   "metadata": {
    "ExecuteTime": {
     "end_time": "2020-10-17T09:22:49.740004Z",
     "start_time": "2020-10-17T09:22:46.523940Z"
    }
   },
   "outputs": [
    {
     "data": {
      "text/plain": [
       "phone_id                      0\n",
       "order_completed_at_x          0\n",
       "target                        0\n",
       "id                            0\n",
       "user_id                 1078618\n",
       "ship_address_id         1078618\n",
       "shipment_id             1078618\n",
       "order_id                1078618\n",
       "order_created_at        1078618\n",
       "order_completed_at_y    1078618\n",
       "shipment_starts_at      1078618\n",
       "retailer                1078618\n",
       "s.order_state           1078618\n",
       "shipment_state          1094847\n",
       "s.city_name             1078618\n",
       "s.store_id              1078618\n",
       "total_cost              1078618\n",
       "rate                    1078618\n",
       "dw_kind                 1078618\n",
       "promo_total             1078618\n",
       "total_weight            1078618\n",
       "platform                1078762\n",
       "os                      1078762\n",
       "shipped_at              1605318\n",
       "dtype: int64"
      ]
     },
     "execution_count": 39,
     "metadata": {},
     "output_type": "execute_result"
    }
   ],
   "source": [
    "train_shipments.isna().sum()"
   ]
  },
  {
   "cell_type": "code",
   "execution_count": null,
   "metadata": {},
   "outputs": [],
   "source": []
  }
 ],
 "metadata": {
  "kernelspec": {
   "display_name": "Python 3",
   "language": "python",
   "name": "python3"
  },
  "language_info": {
   "codemirror_mode": {
    "name": "ipython",
    "version": 3
   },
   "file_extension": ".py",
   "mimetype": "text/x-python",
   "name": "python",
   "nbconvert_exporter": "python",
   "pygments_lexer": "ipython3",
   "version": "3.8.3"
  },
  "toc": {
   "base_numbering": 1,
   "nav_menu": {},
   "number_sections": true,
   "sideBar": true,
   "skip_h1_title": false,
   "title_cell": "Table of Contents",
   "title_sidebar": "Contents",
   "toc_cell": false,
   "toc_position": {},
   "toc_section_display": true,
   "toc_window_display": false
  },
  "varInspector": {
   "cols": {
    "lenName": 16,
    "lenType": 16,
    "lenVar": 40
   },
   "kernels_config": {
    "python": {
     "delete_cmd_postfix": "",
     "delete_cmd_prefix": "del ",
     "library": "var_list.py",
     "varRefreshCmd": "print(var_dic_list())"
    },
    "r": {
     "delete_cmd_postfix": ") ",
     "delete_cmd_prefix": "rm(",
     "library": "var_list.r",
     "varRefreshCmd": "cat(var_dic_list()) "
    }
   },
   "types_to_exclude": [
    "module",
    "function",
    "builtin_function_or_method",
    "instance",
    "_Feature"
   ],
   "window_display": false
  }
 },
 "nbformat": 4,
 "nbformat_minor": 4
}
