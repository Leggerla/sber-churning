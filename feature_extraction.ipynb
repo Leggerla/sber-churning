{
 "cells": [
  {
   "cell_type": "code",
   "execution_count": 1,
   "metadata": {
    "ExecuteTime": {
     "end_time": "2020-10-17T15:34:37.245773Z",
     "start_time": "2020-10-17T15:34:37.116217Z"
    }
   },
   "outputs": [],
   "source": [
    "import pandas as pd\n",
    "import os\n",
    "from collections import Counter, OrderedDict\n",
    "import gc\n",
    "\n",
    "import numpy as np\n",
    "\n",
    "SEED = 42"
   ]
  },
  {
   "cell_type": "code",
   "execution_count": 3,
   "metadata": {
    "ExecuteTime": {
     "end_time": "2020-10-17T15:34:39.464245Z",
     "start_time": "2020-10-17T15:34:39.458739Z"
    }
   },
   "outputs": [],
   "source": [
    "import numpy as np"
   ]
  },
  {
   "cell_type": "code",
   "execution_count": 2,
   "metadata": {
    "ExecuteTime": {
     "end_time": "2020-10-17T15:34:38.041293Z",
     "start_time": "2020-10-17T15:34:37.468913Z"
    }
   },
   "outputs": [],
   "source": [
    "train = pd.read_csv('./train/train.csv')\n",
    "train = train.rename(columns={'order_completed_at': 'month'})\n",
    "addresses = pd.read_csv('./misc/addresses.csv')\n",
    "# sample = pd.read_csv('./sample_submission.csv', sep=';')"
   ]
  },
  {
   "cell_type": "code",
   "execution_count": 4,
   "metadata": {
    "ExecuteTime": {
     "end_time": "2020-10-17T15:34:40.955520Z",
     "start_time": "2020-10-17T15:34:40.920363Z"
    }
   },
   "outputs": [
    {
     "data": {
      "text/plain": [
       "(1159576, 3)"
      ]
     },
     "metadata": {},
     "output_type": "display_data"
    },
    {
     "data": {
      "text/plain": [
       "['2020-01', '2020-02', '2020-03', '2020-04', '2020-05', '2020-06', '2020-07']"
      ]
     },
     "execution_count": 4,
     "metadata": {},
     "output_type": "execute_result"
    }
   ],
   "source": [
    "display(train.shape)\n",
    "sorted(train['month'].unique())"
   ]
  },
  {
   "cell_type": "code",
   "execution_count": 5,
   "metadata": {
    "ExecuteTime": {
     "end_time": "2020-10-17T15:34:41.297914Z",
     "start_time": "2020-10-17T15:34:41.226374Z"
    }
   },
   "outputs": [],
   "source": [
    "# find how many user_ids has each phone_id\n",
    "count_ids = addresses.groupby('phone_id')['id'].count()\n",
    "count_ids = pd.DataFrame(count_ids).rename(columns={'id': 'count_id'})"
   ]
  },
  {
   "cell_type": "code",
   "execution_count": 6,
   "metadata": {
    "ExecuteTime": {
     "end_time": "2020-10-17T15:34:43.439243Z",
     "start_time": "2020-10-17T15:34:41.852800Z"
    }
   },
   "outputs": [],
   "source": [
    "train = train.merge(addresses, on='phone_id', how='left')\n",
    "train = train.merge(pd.DataFrame(count_ids), on='phone_id')"
   ]
  },
  {
   "cell_type": "code",
   "execution_count": 7,
   "metadata": {
    "ExecuteTime": {
     "end_time": "2020-10-17T15:34:43.633444Z",
     "start_time": "2020-10-17T15:34:43.630614Z"
    }
   },
   "outputs": [],
   "source": [
    "del count_ids, addresses"
   ]
  },
  {
   "cell_type": "code",
   "execution_count": 8,
   "metadata": {
    "ExecuteTime": {
     "end_time": "2020-10-17T15:34:43.753281Z",
     "start_time": "2020-10-17T15:34:43.751818Z"
    }
   },
   "outputs": [],
   "source": [
    "# trains = []\n",
    "# for i, month in enumerate(sorted(train['month'].unique())):\n",
    "#     trains.append(train[train['month'] == month])"
   ]
  },
  {
   "cell_type": "code",
   "execution_count": 9,
   "metadata": {
    "ExecuteTime": {
     "end_time": "2020-10-17T15:34:44.386937Z",
     "start_time": "2020-10-17T15:34:43.871214Z"
    }
   },
   "outputs": [
    {
     "data": {
      "text/plain": [
       "array([ 74409, 304244, 155930, ..., 325725, 457748,  37253])"
      ]
     },
     "execution_count": 9,
     "metadata": {},
     "output_type": "execute_result"
    }
   ],
   "source": [
    "test_phone_id = pd.DataFrame(\n",
    "    train[train['month'] == '2020-07']['phone_id'].unique(), \n",
    "    columns=['phone_id']).sample(frac = 0.01).values[:,0]\n",
    "test_phone_id"
   ]
  },
  {
   "cell_type": "code",
   "execution_count": 10,
   "metadata": {
    "ExecuteTime": {
     "end_time": "2020-10-17T15:34:45.717303Z",
     "start_time": "2020-10-17T15:34:44.515194Z"
    }
   },
   "outputs": [],
   "source": [
    "holdout = train[train['phone_id'].isin(test_phone_id)]\n",
    "train = train[~train['phone_id'].isin(test_phone_id)]"
   ]
  },
  {
   "cell_type": "code",
   "execution_count": 11,
   "metadata": {
    "ExecuteTime": {
     "end_time": "2020-10-17T15:34:45.901292Z",
     "start_time": "2020-10-17T15:34:45.899278Z"
    }
   },
   "outputs": [
    {
     "data": {
      "text/plain": [
       "(89863, 9006040, 0.009978081376498438)"
      ]
     },
     "execution_count": 11,
     "metadata": {},
     "output_type": "execute_result"
    }
   ],
   "source": [
    "len(holdout), len(train), len(holdout)/ len(train)"
   ]
  },
  {
   "cell_type": "code",
   "execution_count": 12,
   "metadata": {
    "ExecuteTime": {
     "end_time": "2020-10-17T15:34:51.715133Z",
     "start_time": "2020-10-17T15:34:46.084589Z"
    }
   },
   "outputs": [],
   "source": [
    "li = []\n",
    "for filename in sorted(os.listdir('./shipments')):\n",
    "    df = pd.read_csv(os.path.join('./shipments', filename))\n",
    "    li.append(df)\n",
    "    \n",
    "shipments = pd.concat(li, axis=0)"
   ]
  },
  {
   "cell_type": "code",
   "execution_count": 13,
   "metadata": {
    "ExecuteTime": {
     "end_time": "2020-10-17T15:34:53.170289Z",
     "start_time": "2020-10-17T15:34:53.113766Z"
    }
   },
   "outputs": [],
   "source": [
    "del df, li"
   ]
  },
  {
   "cell_type": "code",
   "execution_count": 14,
   "metadata": {
    "ExecuteTime": {
     "end_time": "2020-10-17T15:34:55.798420Z",
     "start_time": "2020-10-17T15:34:53.573033Z"
    }
   },
   "outputs": [],
   "source": [
    "shipments = train[['phone_id','id']].drop_duplicates().merge(shipments, \n",
    "                            left_on='id', right_on='ship_address_id', how='right')"
   ]
  },
  {
   "cell_type": "code",
   "execution_count": 23,
   "metadata": {
    "ExecuteTime": {
     "end_time": "2020-10-17T15:44:31.626269Z",
     "start_time": "2020-10-17T15:44:30.714357Z"
    }
   },
   "outputs": [],
   "source": [
    "shipments['month'] = pd.to_datetime(shipments['order_created_at']).dt.month\n",
    "shipments['year'] = pd.to_datetime(shipments['order_created_at']).dt.year"
   ]
  },
  {
   "cell_type": "code",
   "execution_count": 36,
   "metadata": {
    "ExecuteTime": {
     "end_time": "2020-10-17T15:51:37.680523Z",
     "start_time": "2020-10-17T15:51:37.420162Z"
    }
   },
   "outputs": [],
   "source": [
    "shipments = shipments[(shipments['year']==2020) | ((shipments['year']==2019) & (shipments['month']==12))]"
   ]
  },
  {
   "cell_type": "code",
   "execution_count": 68,
   "metadata": {
    "ExecuteTime": {
     "end_time": "2020-10-17T16:09:37.564310Z",
     "start_time": "2020-10-17T16:09:37.551904Z"
    }
   },
   "outputs": [
    {
     "name": "stdout",
     "output_type": "stream",
     "text": [
      "<class 'pandas.core.frame.DataFrame'>\n",
      "Int64Index: 2234176 entries, 0 to 2260685\n",
      "Data columns (total 24 columns):\n",
      "phone_id              float64\n",
      "id                    float64\n",
      "user_id               int64\n",
      "ship_address_id       int64\n",
      "shipment_id           int64\n",
      "order_id              int64\n",
      "order_created_at      object\n",
      "order_completed_at    object\n",
      "shipment_starts_at    object\n",
      "retailer              object\n",
      "s.order_state         object\n",
      "shipment_state        object\n",
      "s.city_name           object\n",
      "s.store_id            int64\n",
      "total_cost            float64\n",
      "rate                  int64\n",
      "dw_kind               object\n",
      "promo_total           float64\n",
      "total_weight          int64\n",
      "platform              object\n",
      "os                    object\n",
      "shipped_at            object\n",
      "month                 int64\n",
      "year                  int64\n",
      "dtypes: float64(4), int64(9), object(11)\n",
      "memory usage: 426.1+ MB\n"
     ]
    }
   ],
   "source": [
    "shipments.info()"
   ]
  },
  {
   "cell_type": "code",
   "execution_count": 60,
   "metadata": {
    "ExecuteTime": {
     "end_time": "2020-10-17T16:06:31.740652Z",
     "start_time": "2020-10-17T16:06:31.084495Z"
    }
   },
   "outputs": [
    {
     "data": {
      "text/html": [
       "<div>\n",
       "<style scoped>\n",
       "    .dataframe tbody tr th:only-of-type {\n",
       "        vertical-align: middle;\n",
       "    }\n",
       "\n",
       "    .dataframe tbody tr th {\n",
       "        vertical-align: top;\n",
       "    }\n",
       "\n",
       "    .dataframe thead tr th {\n",
       "        text-align: left;\n",
       "    }\n",
       "\n",
       "    .dataframe thead tr:last-of-type th {\n",
       "        text-align: right;\n",
       "    }\n",
       "</style>\n",
       "<table border=\"1\" class=\"dataframe\">\n",
       "  <thead>\n",
       "    <tr>\n",
       "      <th></th>\n",
       "      <th></th>\n",
       "      <th colspan=\"2\" halign=\"left\">platform</th>\n",
       "    </tr>\n",
       "    <tr>\n",
       "      <th></th>\n",
       "      <th>platform</th>\n",
       "      <th>app</th>\n",
       "      <th>web</th>\n",
       "    </tr>\n",
       "    <tr>\n",
       "      <th>phone_id</th>\n",
       "      <th>month</th>\n",
       "      <th></th>\n",
       "      <th></th>\n",
       "    </tr>\n",
       "  </thead>\n",
       "  <tbody>\n",
       "    <tr>\n",
       "      <th rowspan=\"3\" valign=\"top\">2.0</th>\n",
       "      <th>1</th>\n",
       "      <td>0.0</td>\n",
       "      <td>1.0</td>\n",
       "    </tr>\n",
       "    <tr>\n",
       "      <th>2</th>\n",
       "      <td>0.0</td>\n",
       "      <td>2.0</td>\n",
       "    </tr>\n",
       "    <tr>\n",
       "      <th>3</th>\n",
       "      <td>0.0</td>\n",
       "      <td>1.0</td>\n",
       "    </tr>\n",
       "    <tr>\n",
       "      <th rowspan=\"2\" valign=\"top\">3.0</th>\n",
       "      <th>3</th>\n",
       "      <td>0.0</td>\n",
       "      <td>2.0</td>\n",
       "    </tr>\n",
       "    <tr>\n",
       "      <th>5</th>\n",
       "      <td>1.0</td>\n",
       "      <td>0.0</td>\n",
       "    </tr>\n",
       "  </tbody>\n",
       "</table>\n",
       "</div>"
      ],
      "text/plain": [
       "               platform     \n",
       "platform            app  web\n",
       "phone_id month              \n",
       "2.0      1          0.0  1.0\n",
       "         2          0.0  2.0\n",
       "         3          0.0  1.0\n",
       "3.0      3          0.0  2.0\n",
       "         5          1.0  0.0"
      ]
     },
     "execution_count": 60,
     "metadata": {},
     "output_type": "execute_result"
    }
   ],
   "source": [
    "platforms = pd.DataFrame(shipments.groupby(['phone_id','month'])['platform'].value_counts()).unstack(level=2).fillna(0)\n",
    "platforms.head()"
   ]
  },
  {
   "cell_type": "code",
   "execution_count": 61,
   "metadata": {
    "ExecuteTime": {
     "end_time": "2020-10-17T16:06:45.552294Z",
     "start_time": "2020-10-17T16:06:44.758819Z"
    }
   },
   "outputs": [
    {
     "name": "stderr",
     "output_type": "stream",
     "text": [
      "/home/y_ksenia/anaconda3/envs/ngwl/lib/python3.7/site-packages/ipykernel_launcher.py:1: SettingWithCopyWarning: \n",
      "A value is trying to be set on a copy of a slice from a DataFrame.\n",
      "Try using .loc[row_indexer,col_indexer] = value instead\n",
      "\n",
      "See the caveats in the documentation: http://pandas.pydata.org/pandas-docs/stable/indexing.html#indexing-view-versus-copy\n",
      "  \"\"\"Entry point for launching an IPython kernel.\n"
     ]
    },
    {
     "data": {
      "text/html": [
       "<div>\n",
       "<style scoped>\n",
       "    .dataframe tbody tr th:only-of-type {\n",
       "        vertical-align: middle;\n",
       "    }\n",
       "\n",
       "    .dataframe tbody tr th {\n",
       "        vertical-align: top;\n",
       "    }\n",
       "\n",
       "    .dataframe thead tr th {\n",
       "        text-align: left;\n",
       "    }\n",
       "\n",
       "    .dataframe thead tr:last-of-type th {\n",
       "        text-align: right;\n",
       "    }\n",
       "</style>\n",
       "<table border=\"1\" class=\"dataframe\">\n",
       "  <thead>\n",
       "    <tr>\n",
       "      <th></th>\n",
       "      <th></th>\n",
       "      <th colspan=\"6\" halign=\"left\">os</th>\n",
       "    </tr>\n",
       "    <tr>\n",
       "      <th></th>\n",
       "      <th>os</th>\n",
       "      <th>android</th>\n",
       "      <th>ios</th>\n",
       "      <th>linux</th>\n",
       "      <th>mac</th>\n",
       "      <th>other</th>\n",
       "      <th>windows</th>\n",
       "    </tr>\n",
       "    <tr>\n",
       "      <th>phone_id</th>\n",
       "      <th>month</th>\n",
       "      <th></th>\n",
       "      <th></th>\n",
       "      <th></th>\n",
       "      <th></th>\n",
       "      <th></th>\n",
       "      <th></th>\n",
       "    </tr>\n",
       "  </thead>\n",
       "  <tbody>\n",
       "    <tr>\n",
       "      <th rowspan=\"3\" valign=\"top\">2.0</th>\n",
       "      <th>1</th>\n",
       "      <td>0.0</td>\n",
       "      <td>0.0</td>\n",
       "      <td>0.0</td>\n",
       "      <td>0.0</td>\n",
       "      <td>0.0</td>\n",
       "      <td>1.0</td>\n",
       "    </tr>\n",
       "    <tr>\n",
       "      <th>2</th>\n",
       "      <td>0.0</td>\n",
       "      <td>0.0</td>\n",
       "      <td>0.0</td>\n",
       "      <td>0.0</td>\n",
       "      <td>0.0</td>\n",
       "      <td>2.0</td>\n",
       "    </tr>\n",
       "    <tr>\n",
       "      <th>3</th>\n",
       "      <td>0.0</td>\n",
       "      <td>0.0</td>\n",
       "      <td>0.0</td>\n",
       "      <td>0.0</td>\n",
       "      <td>0.0</td>\n",
       "      <td>1.0</td>\n",
       "    </tr>\n",
       "    <tr>\n",
       "      <th rowspan=\"2\" valign=\"top\">3.0</th>\n",
       "      <th>3</th>\n",
       "      <td>2.0</td>\n",
       "      <td>0.0</td>\n",
       "      <td>0.0</td>\n",
       "      <td>0.0</td>\n",
       "      <td>0.0</td>\n",
       "      <td>0.0</td>\n",
       "    </tr>\n",
       "    <tr>\n",
       "      <th>5</th>\n",
       "      <td>1.0</td>\n",
       "      <td>0.0</td>\n",
       "      <td>0.0</td>\n",
       "      <td>0.0</td>\n",
       "      <td>0.0</td>\n",
       "      <td>0.0</td>\n",
       "    </tr>\n",
       "  </tbody>\n",
       "</table>\n",
       "</div>"
      ],
      "text/plain": [
       "                    os                              \n",
       "os             android  ios linux  mac other windows\n",
       "phone_id month                                      \n",
       "2.0      1         0.0  0.0   0.0  0.0   0.0     1.0\n",
       "         2         0.0  0.0   0.0  0.0   0.0     2.0\n",
       "         3         0.0  0.0   0.0  0.0   0.0     1.0\n",
       "3.0      3         2.0  0.0   0.0  0.0   0.0     0.0\n",
       "         5         1.0  0.0   0.0  0.0   0.0     0.0"
      ]
     },
     "execution_count": 61,
     "metadata": {},
     "output_type": "execute_result"
    }
   ],
   "source": [
    "shipments['os'] = shipments['os'].fillna('other')\n",
    "os = pd.DataFrame(shipments.groupby(['phone_id','month'])['os'].value_counts()).unstack(level=2).fillna(0)\n",
    "os.head()"
   ]
  },
  {
   "cell_type": "code",
   "execution_count": 65,
   "metadata": {
    "ExecuteTime": {
     "end_time": "2020-10-17T16:08:55.346678Z",
     "start_time": "2020-10-17T16:08:54.729567Z"
    },
    "scrolled": true
   },
   "outputs": [
    {
     "data": {
      "text/html": [
       "<div>\n",
       "<style scoped>\n",
       "    .dataframe tbody tr th:only-of-type {\n",
       "        vertical-align: middle;\n",
       "    }\n",
       "\n",
       "    .dataframe tbody tr th {\n",
       "        vertical-align: top;\n",
       "    }\n",
       "\n",
       "    .dataframe thead tr th {\n",
       "        text-align: left;\n",
       "    }\n",
       "\n",
       "    .dataframe thead tr:last-of-type th {\n",
       "        text-align: right;\n",
       "    }\n",
       "</style>\n",
       "<table border=\"1\" class=\"dataframe\">\n",
       "  <thead>\n",
       "    <tr>\n",
       "      <th></th>\n",
       "      <th></th>\n",
       "      <th colspan=\"3\" halign=\"left\">dw_kind</th>\n",
       "    </tr>\n",
       "    <tr>\n",
       "      <th></th>\n",
       "      <th>dw_kind</th>\n",
       "      <th>courier</th>\n",
       "      <th>express_delivery</th>\n",
       "      <th>pickup</th>\n",
       "    </tr>\n",
       "    <tr>\n",
       "      <th>phone_id</th>\n",
       "      <th>month</th>\n",
       "      <th></th>\n",
       "      <th></th>\n",
       "      <th></th>\n",
       "    </tr>\n",
       "  </thead>\n",
       "  <tbody>\n",
       "    <tr>\n",
       "      <th rowspan=\"3\" valign=\"top\">2.0</th>\n",
       "      <th>1</th>\n",
       "      <td>1.0</td>\n",
       "      <td>0.0</td>\n",
       "      <td>0.0</td>\n",
       "    </tr>\n",
       "    <tr>\n",
       "      <th>2</th>\n",
       "      <td>2.0</td>\n",
       "      <td>0.0</td>\n",
       "      <td>0.0</td>\n",
       "    </tr>\n",
       "    <tr>\n",
       "      <th>3</th>\n",
       "      <td>1.0</td>\n",
       "      <td>0.0</td>\n",
       "      <td>0.0</td>\n",
       "    </tr>\n",
       "    <tr>\n",
       "      <th rowspan=\"2\" valign=\"top\">3.0</th>\n",
       "      <th>3</th>\n",
       "      <td>2.0</td>\n",
       "      <td>0.0</td>\n",
       "      <td>0.0</td>\n",
       "    </tr>\n",
       "    <tr>\n",
       "      <th>5</th>\n",
       "      <td>1.0</td>\n",
       "      <td>0.0</td>\n",
       "      <td>0.0</td>\n",
       "    </tr>\n",
       "  </tbody>\n",
       "</table>\n",
       "</div>"
      ],
      "text/plain": [
       "               dw_kind                        \n",
       "dw_kind        courier express_delivery pickup\n",
       "phone_id month                                \n",
       "2.0      1         1.0              0.0    0.0\n",
       "         2         2.0              0.0    0.0\n",
       "         3         1.0              0.0    0.0\n",
       "3.0      3         2.0              0.0    0.0\n",
       "         5         1.0              0.0    0.0"
      ]
     },
     "execution_count": 65,
     "metadata": {},
     "output_type": "execute_result"
    }
   ],
   "source": [
    "dw_kind = pd.DataFrame(shipments.groupby(['phone_id','month'])['dw_kind'].value_counts()).unstack(level=2).fillna(0)\n",
    "dw_kind.head()"
   ]
  },
  {
   "cell_type": "code",
   "execution_count": 67,
   "metadata": {
    "ExecuteTime": {
     "end_time": "2020-10-17T16:09:23.776934Z",
     "start_time": "2020-10-17T16:09:23.561282Z"
    }
   },
   "outputs": [
    {
     "data": {
      "text/html": [
       "<div>\n",
       "<style scoped>\n",
       "    .dataframe tbody tr th:only-of-type {\n",
       "        vertical-align: middle;\n",
       "    }\n",
       "\n",
       "    .dataframe tbody tr th {\n",
       "        vertical-align: top;\n",
       "    }\n",
       "\n",
       "    .dataframe thead th {\n",
       "        text-align: right;\n",
       "    }\n",
       "</style>\n",
       "<table border=\"1\" class=\"dataframe\">\n",
       "  <thead>\n",
       "    <tr style=\"text-align: right;\">\n",
       "      <th></th>\n",
       "      <th></th>\n",
       "      <th>total_weight</th>\n",
       "    </tr>\n",
       "    <tr>\n",
       "      <th>phone_id</th>\n",
       "      <th>month</th>\n",
       "      <th></th>\n",
       "    </tr>\n",
       "  </thead>\n",
       "  <tbody>\n",
       "    <tr>\n",
       "      <th rowspan=\"3\" valign=\"top\">2.0</th>\n",
       "      <th>1</th>\n",
       "      <td>38865</td>\n",
       "    </tr>\n",
       "    <tr>\n",
       "      <th>2</th>\n",
       "      <td>63276</td>\n",
       "    </tr>\n",
       "    <tr>\n",
       "      <th>3</th>\n",
       "      <td>40777</td>\n",
       "    </tr>\n",
       "    <tr>\n",
       "      <th rowspan=\"2\" valign=\"top\">3.0</th>\n",
       "      <th>3</th>\n",
       "      <td>31265</td>\n",
       "    </tr>\n",
       "    <tr>\n",
       "      <th>5</th>\n",
       "      <td>25106</td>\n",
       "    </tr>\n",
       "  </tbody>\n",
       "</table>\n",
       "</div>"
      ],
      "text/plain": [
       "                total_weight\n",
       "phone_id month              \n",
       "2.0      1             38865\n",
       "         2             63276\n",
       "         3             40777\n",
       "3.0      3             31265\n",
       "         5             25106"
      ]
     },
     "execution_count": 67,
     "metadata": {},
     "output_type": "execute_result"
    }
   ],
   "source": [
    "weight = pd.DataFrame(shipments.groupby(['phone_id','month'])['total_weight'].sum())\n",
    "weight.head()"
   ]
  },
  {
   "cell_type": "code",
   "execution_count": null,
   "metadata": {},
   "outputs": [],
   "source": [
    "pd.DataFrame(shipments.groupby(['phone_id','month'])['platform'].value_counts()).unstack(level=2).fillna(0)"
   ]
  },
  {
   "cell_type": "code",
   "execution_count": null,
   "metadata": {},
   "outputs": [],
   "source": []
  },
  {
   "cell_type": "code",
   "execution_count": null,
   "metadata": {},
   "outputs": [],
   "source": []
  },
  {
   "cell_type": "code",
   "execution_count": null,
   "metadata": {},
   "outputs": [],
   "source": []
  },
  {
   "cell_type": "code",
   "execution_count": null,
   "metadata": {},
   "outputs": [],
   "source": []
  }
 ],
 "metadata": {
  "kernelspec": {
   "display_name": "Python 3",
   "language": "python",
   "name": "python3"
  },
  "language_info": {
   "codemirror_mode": {
    "name": "ipython",
    "version": 3
   },
   "file_extension": ".py",
   "mimetype": "text/x-python",
   "name": "python",
   "nbconvert_exporter": "python",
   "pygments_lexer": "ipython3",
   "version": "3.7.0"
  },
  "toc": {
   "base_numbering": 1,
   "nav_menu": {},
   "number_sections": true,
   "sideBar": true,
   "skip_h1_title": false,
   "title_cell": "Table of Contents",
   "title_sidebar": "Contents",
   "toc_cell": false,
   "toc_position": {},
   "toc_section_display": true,
   "toc_window_display": false
  },
  "varInspector": {
   "cols": {
    "lenName": 16,
    "lenType": 16,
    "lenVar": 40
   },
   "kernels_config": {
    "python": {
     "delete_cmd_postfix": "",
     "delete_cmd_prefix": "del ",
     "library": "var_list.py",
     "varRefreshCmd": "print(var_dic_list())"
    },
    "r": {
     "delete_cmd_postfix": ") ",
     "delete_cmd_prefix": "rm(",
     "library": "var_list.r",
     "varRefreshCmd": "cat(var_dic_list()) "
    }
   },
   "position": {
    "height": "391px",
    "left": "1070px",
    "right": "20px",
    "top": "120px",
    "width": "314px"
   },
   "types_to_exclude": [
    "module",
    "function",
    "builtin_function_or_method",
    "instance",
    "_Feature"
   ],
   "window_display": false
  }
 },
 "nbformat": 4,
 "nbformat_minor": 4
}
