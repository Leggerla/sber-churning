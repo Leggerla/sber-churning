{
 "cells": [
  {
   "cell_type": "code",
   "execution_count": 14,
   "metadata": {
    "ExecuteTime": {
     "end_time": "2020-10-17T20:38:13.152013Z",
     "start_time": "2020-10-17T20:38:13.140199Z"
    }
   },
   "outputs": [],
   "source": [
    "from sys import path\n",
    "import pandas as pd\n",
    "import gc\n",
    "\n",
    "# patching path is dirty trick but acceptable for notebooks\n",
    "dest_path = '/home/y_ksenia/NGWL/sber-churning/'\n",
    "\n",
    "if dest_path not in path:\n",
    "    path.insert(0, dest_path)\n",
    "    \n",
    "\n",
    "pd.set_option(\"display.max_columns\", 999)"
   ]
  },
  {
   "cell_type": "code",
   "execution_count": 15,
   "metadata": {
    "ExecuteTime": {
     "end_time": "2020-10-17T20:38:13.309131Z",
     "start_time": "2020-10-17T20:38:13.303219Z"
    }
   },
   "outputs": [
    {
     "name": "stdout",
     "output_type": "stream",
     "text": [
      "The autoreload extension is already loaded. To reload it, use:\n",
      "  %reload_ext autoreload\n"
     ]
    }
   ],
   "source": [
    "%load_ext autoreload\n",
    "%autoreload 2\n",
    "\n",
    "from joining_tables import get_train, get_shipments, train_test_split\n",
    "\n",
    "from feature_extraction import FeatureExtractor"
   ]
  },
  {
   "cell_type": "code",
   "execution_count": 16,
   "metadata": {
    "ExecuteTime": {
     "end_time": "2020-10-17T20:38:14.217255Z",
     "start_time": "2020-10-17T20:38:13.461732Z"
    }
   },
   "outputs": [],
   "source": [
    "train = get_train('./')\n",
    "train, holdout = train_test_split(train)"
   ]
  },
  {
   "cell_type": "code",
   "execution_count": 17,
   "metadata": {
    "ExecuteTime": {
     "end_time": "2020-10-17T20:38:30.797584Z",
     "start_time": "2020-10-17T20:38:14.284237Z"
    }
   },
   "outputs": [],
   "source": [
    "fe = FeatureExtractor()"
   ]
  },
  {
   "cell_type": "code",
   "execution_count": 20,
   "metadata": {
    "ExecuteTime": {
     "end_time": "2020-10-17T20:40:02.679383Z",
     "start_time": "2020-10-17T20:39:45.168903Z"
    }
   },
   "outputs": [],
   "source": [
    "features = fe.exract_all()"
   ]
  },
  {
   "cell_type": "code",
   "execution_count": 22,
   "metadata": {
    "ExecuteTime": {
     "end_time": "2020-10-17T20:40:16.916917Z",
     "start_time": "2020-10-17T20:40:16.048470Z"
    }
   },
   "outputs": [],
   "source": [
    "train_full = train[['phone_id','prev_month','target']].merge(\n",
    "    features, left_on=['phone_id','prev_month'], right_on=['phone_id','month']\n",
    ")"
   ]
  },
  {
   "cell_type": "code",
   "execution_count": 23,
   "metadata": {
    "ExecuteTime": {
     "end_time": "2020-10-17T20:40:18.356820Z",
     "start_time": "2020-10-17T20:40:17.959072Z"
    }
   },
   "outputs": [],
   "source": [
    "X_train = train_full.drop(['phone_id','prev_month','target'], axis=1).values\n",
    "y_train = train_full['target'].values"
   ]
  },
  {
   "cell_type": "code",
   "execution_count": 33,
   "metadata": {
    "ExecuteTime": {
     "end_time": "2020-10-17T20:41:58.153799Z",
     "start_time": "2020-10-17T20:41:58.139004Z"
    }
   },
   "outputs": [],
   "source": [
    "from sklearn.feature_selection import RFECV\n",
    "from sklearn.model_selection import GridSearchCV, StratifiedKFold\n",
    "from sklearn.metrics import precision_score, recall_score, f1_score, fbeta_score"
   ]
  },
  {
   "cell_type": "code",
   "execution_count": 25,
   "metadata": {
    "ExecuteTime": {
     "end_time": "2020-10-17T20:41:00.474589Z",
     "start_time": "2020-10-17T20:41:00.339086Z"
    }
   },
   "outputs": [],
   "source": [
    "from xgboost import XGBClassifier\n",
    "\n",
    "model = XGBClassifier()"
   ]
  },
  {
   "cell_type": "code",
   "execution_count": 26,
   "metadata": {
    "ExecuteTime": {
     "end_time": "2020-10-17T20:41:39.557144Z",
     "start_time": "2020-10-17T20:41:05.028222Z"
    }
   },
   "outputs": [
    {
     "data": {
      "text/plain": [
       "XGBClassifier(base_score=0.5, booster='gbtree', colsample_bylevel=1,\n",
       "              colsample_bynode=1, colsample_bytree=1, gamma=0, gpu_id=-1,\n",
       "              importance_type='gain', interaction_constraints='',\n",
       "              learning_rate=0.300000012, max_delta_step=0, max_depth=6,\n",
       "              min_child_weight=1, missing=nan, monotone_constraints='()',\n",
       "              n_estimators=100, n_jobs=0, num_parallel_tree=1, random_state=0,\n",
       "              reg_alpha=0, reg_lambda=1, scale_pos_weight=1, subsample=1,\n",
       "              tree_method='exact', validate_parameters=1, verbosity=None)"
      ]
     },
     "execution_count": 26,
     "metadata": {},
     "output_type": "execute_result"
    }
   ],
   "source": [
    "model.fit(X_train, y_train, verbose=True)"
   ]
  },
  {
   "cell_type": "code",
   "execution_count": 28,
   "metadata": {
    "ExecuteTime": {
     "end_time": "2020-10-17T20:41:48.318207Z",
     "start_time": "2020-10-17T20:41:48.111725Z"
    }
   },
   "outputs": [],
   "source": [
    "test_full = holdout[['phone_id','prev_month','target']].merge(\n",
    "    features, left_on=['phone_id','prev_month'], right_on=['phone_id','month']\n",
    ")"
   ]
  },
  {
   "cell_type": "code",
   "execution_count": 29,
   "metadata": {
    "ExecuteTime": {
     "end_time": "2020-10-17T20:41:49.889296Z",
     "start_time": "2020-10-17T20:41:49.878463Z"
    }
   },
   "outputs": [],
   "source": [
    "test_full = test_full[train_full.columns]"
   ]
  },
  {
   "cell_type": "code",
   "execution_count": 30,
   "metadata": {
    "ExecuteTime": {
     "end_time": "2020-10-17T20:41:51.457115Z",
     "start_time": "2020-10-17T20:41:51.447079Z"
    }
   },
   "outputs": [],
   "source": [
    "X_test = test_full.drop(['phone_id','prev_month','target'], axis=1).values\n",
    "y_test = test_full['target'].values"
   ]
  },
  {
   "cell_type": "code",
   "execution_count": 31,
   "metadata": {
    "ExecuteTime": {
     "end_time": "2020-10-17T20:41:53.030627Z",
     "start_time": "2020-10-17T20:41:53.010803Z"
    }
   },
   "outputs": [],
   "source": [
    "preds = model.predict(X_test)"
   ]
  },
  {
   "cell_type": "code",
   "execution_count": 34,
   "metadata": {
    "ExecuteTime": {
     "end_time": "2020-10-17T20:42:00.366708Z",
     "start_time": "2020-10-17T20:42:00.350659Z"
    }
   },
   "outputs": [
    {
     "data": {
      "text/plain": [
       "0.7748558571227674"
      ]
     },
     "execution_count": 34,
     "metadata": {},
     "output_type": "execute_result"
    }
   ],
   "source": [
    "f1_score(y_test, preds)"
   ]
  },
  {
   "cell_type": "code",
   "execution_count": null,
   "metadata": {},
   "outputs": [],
   "source": []
  }
 ],
 "metadata": {
  "kernelspec": {
   "display_name": "Python 3",
   "language": "python",
   "name": "python3"
  },
  "language_info": {
   "codemirror_mode": {
    "name": "ipython",
    "version": 3
   },
   "file_extension": ".py",
   "mimetype": "text/x-python",
   "name": "python",
   "nbconvert_exporter": "python",
   "pygments_lexer": "ipython3",
   "version": "3.7.0"
  },
  "toc": {
   "base_numbering": 1,
   "nav_menu": {},
   "number_sections": true,
   "sideBar": true,
   "skip_h1_title": false,
   "title_cell": "Table of Contents",
   "title_sidebar": "Contents",
   "toc_cell": false,
   "toc_position": {},
   "toc_section_display": true,
   "toc_window_display": false
  },
  "varInspector": {
   "cols": {
    "lenName": 16,
    "lenType": 16,
    "lenVar": 40
   },
   "kernels_config": {
    "python": {
     "delete_cmd_postfix": "",
     "delete_cmd_prefix": "del ",
     "library": "var_list.py",
     "varRefreshCmd": "print(var_dic_list())"
    },
    "r": {
     "delete_cmd_postfix": ") ",
     "delete_cmd_prefix": "rm(",
     "library": "var_list.r",
     "varRefreshCmd": "cat(var_dic_list()) "
    }
   },
   "position": {
    "height": "274px",
    "left": "1070px",
    "right": "20px",
    "top": "120px",
    "width": "349px"
   },
   "types_to_exclude": [
    "module",
    "function",
    "builtin_function_or_method",
    "instance",
    "_Feature"
   ],
   "window_display": false
  }
 },
 "nbformat": 4,
 "nbformat_minor": 2
}
